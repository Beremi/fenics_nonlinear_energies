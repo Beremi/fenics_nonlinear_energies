{
 "cells": [
  {
   "cell_type": "markdown",
   "metadata": {},
   "source": [
    "# Imports\n",
    "All problem-speciffic files (code) in in the folder `MeshpLaplace2D`, namely the loading of pre-prepared mesh and definition of energy in jax.numpy."
   ]
  },
  {
   "cell_type": "code",
   "execution_count": 1,
   "metadata": {},
   "outputs": [
    {
     "name": "stderr",
     "output_type": "stream",
     "text": [
      "/usr/local/lib/python3.10/dist-packages/matplotlib/projections/__init__.py:63: UserWarning: Unable to import Axes3D. This may be due to multiple versions of Matplotlib being installed (e.g. as a system package and as a pip package). As a result, the 3D projection is not available.\n",
      "  warnings.warn(\"Unable to import Axes3D. This may be due to multiple versions of \"\n"
     ]
    }
   ],
   "source": [
    "from tools.minimizers import newton\n",
    "from tools.sparse_solvers import HessSolverGenerator\n",
    "from tools.jax_diff import EnergyDerivator as EnergyDerivator\n",
    "from pLaplace2D.jax_energy import J\n",
    "from pLaplace2D.mesh import MeshpLaplace2D\n",
    "\n",
    "from jax import config\n",
    "\n",
    "config.update(\"jax_enable_x64\", True)"
   ]
  },
  {
   "cell_type": "markdown",
   "metadata": {},
   "source": [
    "# Setup of the problem"
   ]
  },
  {
   "cell_type": "code",
   "execution_count": 2,
   "metadata": {},
   "outputs": [
    {
     "name": "stdout",
     "output_type": "stream",
     "text": [
      "{'coloring': 0.482206375017995, 'compilation': 0.27728103697882034}\n"
     ]
    }
   ],
   "source": [
    "mesh = MeshpLaplace2D(mesh_level=7)\n",
    "params, adjacency, u_init = mesh.get_data_jax()\n",
    "energy_pLaplace = EnergyDerivator(J, params, adjacency, u_init)\n",
    "\n",
    "F, dF, ddF = energy_pLaplace.get_derivatives()\n",
    "ddf_with_solver = HessSolverGenerator(ddf=ddF, solver_type=\"amg\", verbose=True, tol=1e-3)\n",
    "print(energy_pLaplace.timings)"
   ]
  },
  {
   "cell_type": "markdown",
   "metadata": {},
   "source": [
    "# Solution via Newton's method"
   ]
  },
  {
   "cell_type": "code",
   "execution_count": 3,
   "metadata": {},
   "outputs": [
    {
     "name": "stdout",
     "output_type": "stream",
     "text": [
      "Iterations in AMG solver: 4.\n",
      "it=1, f=-0.00448, fstep = 5.21144e+05, ||g||=28062.38599, nitf=17, a=1.99965e+00\n",
      "Iterations in AMG solver: 9.\n",
      "it=2, f=-5.20909, fstep = 5.20461e+00, ||g||=0.22497, nitf=17, a=5.62308e-02\n",
      "Iterations in AMG solver: 7.\n",
      "it=3, f=-7.31352, fstep = 2.10443e+00, ||g||=5.44356, nitf=17, a=4.12779e-01\n",
      "Iterations in AMG solver: 5.\n",
      "it=4, f=-7.93687, fstep = 6.23352e-01, ||g||=3.79852, nitf=17, a=1.05137e+00\n",
      "Iterations in AMG solver: 6.\n",
      "it=5, f=-7.95820, fstep = 2.13328e-02, ||g||=0.54077, nitf=17, a=1.08356e+00\n",
      "Iterations in AMG solver: 6.\n",
      "it=6, f=-7.95829, fstep = 8.82177e-05, ||g||=0.03277, nitf=17, a=1.02074e+00\n"
     ]
    },
    {
     "data": {
      "text/plain": [
       "{'x': Array([-0.76453847, -0.65248595, -0.79502379, ..., -0.45099967,\n",
       "        -0.45658825, -0.45024498], dtype=float64),\n",
       " 'fun': array(-7.95829233),\n",
       " 'nit': 6,\n",
       " 'time': 5.870554598979652,\n",
       " 'message': 'Stopping condition for g is satisfied'}"
      ]
     },
     "execution_count": 3,
     "metadata": {},
     "output_type": "execute_result"
    }
   ],
   "source": [
    "res = newton(F, dF, ddf_with_solver, u_init, verbose=True, tolf=1e-5, linesearch_tol=1e-3)\n",
    "res"
   ]
  },
  {
   "cell_type": "code",
   "execution_count": null,
   "metadata": {},
   "outputs": [],
   "source": []
  }
 ],
 "metadata": {
  "kernelspec": {
   "display_name": "Python 3",
   "language": "python",
   "name": "python3"
  },
  "language_info": {
   "codemirror_mode": {
    "name": "ipython",
    "version": 3
   },
   "file_extension": ".py",
   "mimetype": "text/x-python",
   "name": "python",
   "nbconvert_exporter": "python",
   "pygments_lexer": "ipython3",
   "version": "3.10.12"
  }
 },
 "nbformat": 4,
 "nbformat_minor": 2
}
