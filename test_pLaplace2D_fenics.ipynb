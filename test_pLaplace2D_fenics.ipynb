{
 "cells": [
  {
   "cell_type": "markdown",
   "metadata": {},
   "source": [
    "# Imports\n",
    "All problem-speciffic files (code) in in the folder `MeshpLaplace2D`, namely the loading of pre-prepared mesh and definition of energy in jax.numpy."
   ]
  },
  {
   "cell_type": "code",
   "execution_count": 20,
   "metadata": {},
   "outputs": [],
   "source": [
    "import numpy as np\n",
    "from mpi4py import MPI\n",
    "import dolfinx\n",
    "import ufl\n",
    "import basix.ufl\n",
    "from dolfinx import fem, mesh\n",
    "from petsc4py import PETSc\n",
    "from petsc4py.PETSc import ScalarType  # type: ignore\n",
    "from dolfinx.fem.petsc import apply_lifting, assemble_matrix, assemble_vector, set_bc\n",
    "from mpl_toolkits.mplot3d import Axes3D\n",
    "import matplotlib.pyplot as plt\n",
    "import time\n",
    "import os\n",
    "from dolfinx.io import XDMFFile\n",
    "\n",
    "# Specify mesh level\n",
    "mesh_level = 1  # Change this to the desired level\n",
    "\n",
    "# Load the mesh from the XDMF file\n",
    "with XDMFFile(MPI.COMM_WORLD, f\"pLaplace_fenics_mesh/mesh_level_{mesh_level}.xdmf\", \"r\") as xdmf_file:\n",
    "    msh = xdmf_file.read_mesh(name=\"mesh\")\n",
    "\n",
    "# Define a continuous Galerkin (CG) function space of degree 1\n",
    "V = fem.functionspace(msh, (\"Lagrange\", 1))\n",
    "\n",
    "# --- Define Boundary Conditions ---\n",
    "msh.topology.create_connectivity(1, 2)  # Ensure facet connectivity for boundary facets\n",
    "boundary_facets = mesh.exterior_facet_indices(msh.topology)\n",
    "dofs = fem.locate_dofs_topological(V, 1, boundary_facets)\n",
    "\n",
    "# Define the Dirichlet boundary condition (u = 0 on boundary nodes)\n",
    "bc = fem.dirichletbc(ScalarType(0), dofs, V)"
   ]
  },
  {
   "cell_type": "code",
   "execution_count": 21,
   "metadata": {},
   "outputs": [],
   "source": [
    "# --- Define Variational Problem ---\n",
    "# Assume mesh and Dirichlet boundary conditions are already set up\n",
    "# Trial and test functions\n",
    "u = fem.Function(V)\n",
    "v = ufl.TestFunction(V)\n",
    "u_trial = ufl.TrialFunction(V)\n",
    "\n",
    "# initial guess\n",
    "u.vector.setArray(1e-3 * np.random.rand(u.vector.array.shape[0]))\n",
    "set_bc(u.vector, [bc])\n",
    "\n",
    "# Define parameters\n",
    "p = 3  # p-Laplacian parameter\n",
    "f = fem.Constant(msh, ScalarType(-10.0))  # Constant RHS\n",
    "\n",
    "# Define the energy functional\n",
    "energy = (1 / p) * ufl.inner(ufl.grad(u), ufl.grad(u))**(p / 2) * ufl.dx - f * u * ufl.dx\n",
    "\n",
    "# Gradient (variational form)\n",
    "grad_energy = ufl.derivative(energy, u, v)\n",
    "\n",
    "# Hessian (second derivative)\n",
    "hessian = ufl.derivative(grad_energy, u, u_trial)\n",
    "\n",
    "# Forms\n",
    "energy_form = fem.form(energy)\n",
    "grad_form = fem.form(grad_energy)\n",
    "hessian_form = fem.form(hessian)"
   ]
  },
  {
   "cell_type": "code",
   "execution_count": 22,
   "metadata": {},
   "outputs": [
    {
     "data": {
      "text/plain": [
       "0.007193851531172988"
      ]
     },
     "execution_count": 22,
     "metadata": {},
     "output_type": "execute_result"
    }
   ],
   "source": [
    "# initial energy\n",
    "fem.assemble_scalar(energy_form)"
   ]
  },
  {
   "cell_type": "code",
   "execution_count": 23,
   "metadata": {},
   "outputs": [
    {
     "name": "stdout",
     "output_type": "stream",
     "text": [
      "IT 1: Grad inf-norm = 2.500e+00, TIMES: Aseembly. = 0.000 s, Prec setup = 0.000 s, Solve time = 0.000 s, Solver its = 2\n",
      "IT 2: Grad inf-norm = 1.591e+07, TIMES: Aseembly. = 0.000 s, Prec setup = 0.000 s, Solve time = 0.000 s, Solver its = 2\n",
      "IT 3: Grad inf-norm = 3.977e+06, TIMES: Aseembly. = 0.000 s, Prec setup = 0.000 s, Solve time = 0.000 s, Solver its = 2\n",
      "IT 4: Grad inf-norm = 9.846e+05, TIMES: Aseembly. = 0.000 s, Prec setup = 0.000 s, Solve time = 0.000 s, Solver its = 2\n",
      "IT 5: Grad inf-norm = 2.439e+05, TIMES: Aseembly. = 0.000 s, Prec setup = 0.000 s, Solve time = 0.000 s, Solver its = 2\n",
      "IT 6: Grad inf-norm = 6.048e+04, TIMES: Aseembly. = 0.000 s, Prec setup = 0.000 s, Solve time = 0.000 s, Solver its = 2\n",
      "IT 7: Grad inf-norm = 1.502e+04, TIMES: Aseembly. = 0.000 s, Prec setup = 0.000 s, Solve time = 0.000 s, Solver its = 2\n",
      "IT 8: Grad inf-norm = 3.735e+03, TIMES: Aseembly. = 0.000 s, Prec setup = 0.000 s, Solve time = 0.000 s, Solver its = 2\n",
      "IT 9: Grad inf-norm = 9.298e+02, TIMES: Aseembly. = 0.000 s, Prec setup = 0.000 s, Solve time = 0.000 s, Solver its = 2\n",
      "IT 10: Grad inf-norm = 2.313e+02, TIMES: Aseembly. = 0.000 s, Prec setup = 0.000 s, Solve time = 0.000 s, Solver its = 2\n",
      "IT 11: Grad inf-norm = 5.708e+01, TIMES: Aseembly. = 0.000 s, Prec setup = 0.000 s, Solve time = 0.000 s, Solver its = 2\n",
      "IT 12: Grad inf-norm = 1.364e+01, TIMES: Aseembly. = 0.000 s, Prec setup = 0.000 s, Solve time = 0.000 s, Solver its = 2\n",
      "IT 13: Grad inf-norm = 2.870e+00, TIMES: Aseembly. = 0.000 s, Prec setup = 0.000 s, Solve time = 0.000 s, Solver its = 2\n",
      "IT 14: Grad inf-norm = 3.710e-01, TIMES: Aseembly. = 0.000 s, Prec setup = 0.000 s, Solve time = 0.000 s, Solver its = 2\n",
      "IT 15: Grad inf-norm = 1.044e-02, TIMES: Aseembly. = 0.000 s, Prec setup = 0.000 s, Solve time = 0.000 s, Solver its = 2\n",
      "IT 16: Grad inf-norm = 1.899e-05, TIMES: Aseembly. = 0.000 s, Prec setup = 0.000 s, Solve time = 0.000 s, Solver its = 2\n",
      "IT 17: Grad inf-norm = 9.150e-08, TIMES: Aseembly. = 0.000 s, Prec setup = 0.000 s, Solve time = 0.000 s, Solver its = 1\n",
      "Converged!\n"
     ]
    },
    {
     "data": {
      "text/plain": [
       "-5.934251214468168"
      ]
     },
     "execution_count": 23,
     "metadata": {},
     "output_type": "execute_result"
    }
   ],
   "source": [
    "# initial guess\n",
    "u.vector.setArray(1e-3 * np.random.rand(u.vector.array.shape[0]))\n",
    "\n",
    "# Create matrix and vector for linear problem\n",
    "du = dolfinx.fem.Function(V)\n",
    "A = dolfinx.fem.petsc.create_matrix(hessian_form)\n",
    "L = dolfinx.fem.petsc.create_vector(grad_form)\n",
    "solver = PETSc.KSP().create(msh.comm)\n",
    "solver.setOperators(A)\n",
    "solver.setType(PETSc.KSP.Type.CG)  # Conjugate Gradient\n",
    "solver.getPC().setType(PETSc.PC.Type.GAMG)  # Algebraic Multigrid Preconditioner\n",
    "solver.setTolerances(rtol=1e-1)  # Set accuracy for linear solver\n",
    "\n",
    "\n",
    "i = 0\n",
    "max_iterations = 100\n",
    "\n",
    "L2_error = []\n",
    "du_norm = []\n",
    "while i < max_iterations:\n",
    "    # Assemble Jacobian and residual\n",
    "    start_time = time.time()\n",
    "    with L.localForm() as loc_L:\n",
    "        loc_L.set(0)\n",
    "    A.zeroEntries()\n",
    "    dolfinx.fem.petsc.assemble_matrix(A, hessian_form, bcs=[bc])\n",
    "    A.assemble()\n",
    "    dolfinx.fem.petsc.assemble_vector(L, grad_form)\n",
    "    L.ghostUpdate(addv=PETSc.InsertMode.ADD, mode=PETSc.ScatterMode.REVERSE)\n",
    "    L.scale(-1)\n",
    "    grad_time = time.time() - start_time\n",
    "\n",
    "    # Compute b - J(u_D-u_(i-1))\n",
    "    precond_start_time = time.time()\n",
    "    dolfinx.fem.petsc.apply_lifting(L, [hessian_form], [[bc]], x0=[u.x.petsc_vec])\n",
    "    # Set du|_bc = u_{i-1}-u_D\n",
    "    dolfinx.fem.petsc.set_bc(L, [bc], u.x.petsc_vec)\n",
    "    L.ghostUpdate(addv=PETSc.InsertMode.INSERT_VALUES, mode=PETSc.ScatterMode.FORWARD)\n",
    "    precond_time = time.time() - precond_start_time\n",
    "\n",
    "    # Solve linear problem\n",
    "    solve_start_time = time.time()\n",
    "    solver.solve(L, du.x.petsc_vec)\n",
    "    du.x.scatter_forward()\n",
    "    solve_time = time.time() - solve_start_time\n",
    "    grad_inf_norm = L.norm(PETSc.NormType.NORM_INFINITY)\n",
    "\n",
    "    # Update u_{i+1} = u_i + delta u_i\n",
    "    u.x.array[:] += du.x.array\n",
    "    i += 1\n",
    "\n",
    "    # Compute norm of update\n",
    "    correction_norm = du.x.petsc_vec.norm(0)\n",
    "    du_norm.append(grad_inf_norm)\n",
    "\n",
    "    # Debug info\n",
    "    print(f\"IT {i}: Grad inf-norm = {grad_inf_norm:.3e}, TIMES: Aseembly. = {grad_time:.3f} s, Prec setup = {precond_time:.3f} s, Solve time = {solve_time:.3f} s, Solver its = {solver.getIterationNumber()}\")\n",
    "\n",
    "    if grad_inf_norm < 1e-6:\n",
    "        print(\"Converged!\")\n",
    "        break\n",
    "\n",
    "fem.assemble_scalar(energy_form)"
   ]
  },
  {
   "cell_type": "code",
   "execution_count": 24,
   "metadata": {},
   "outputs": [
    {
     "data": {
      "image/png": "[encoded data removed]",
      "text/plain": [
       "<Figure size 640x480 with 2 Axes>"
      ]
     },
     "metadata": {},
     "output_type": "display_data"
    }
   ],
   "source": [
    "fig, ax = plt.subplots()\n",
    "ax.set_aspect('equal')\n",
    "ax.tripcolor(msh.geometry.x[:, 0], msh.geometry.x[:, 1], msh.geometry.dofmap, u.vector.array, shading='flat')\n",
    "# add colorbar\n",
    "plt.colorbar(ax.tripcolor(msh.geometry.x[:, 0], msh.geometry.x[:, 1],\n",
    "             msh.geometry.dofmap, u.vector.array, shading='flat'))\n",
    "plt.show()"
   ]
  },
  {
   "cell_type": "code",
   "execution_count": 25,
   "metadata": {},
   "outputs": [
    {
     "ename": "TypeError",
     "evalue": "getLocalVector() takes at least 1 positional argument (0 given)",
     "output_type": "error",
     "traceback": [
      "\u001b[0;31m---------------------------------------------------------------------------\u001b[0m",
      "\u001b[0;31mTypeError\u001b[0m                                 Traceback (most recent call last)",
      "Cell \u001b[0;32mIn[25], line 2\u001b[0m\n\u001b[1;32m      1\u001b[0m indexes_local \u001b[38;5;241m=\u001b[39m \u001b[38;5;28mrange\u001b[39m(\u001b[38;5;241m*\u001b[39mu\u001b[38;5;241m.\u001b[39mvector\u001b[38;5;241m.\u001b[39mgetOwnershipRange())\n\u001b[0;32m----> 2\u001b[0m \u001b[43mu\u001b[49m\u001b[38;5;241;43m.\u001b[39;49m\u001b[43mvector\u001b[49m\u001b[38;5;241;43m.\u001b[39;49m\u001b[43mgetLocalVector\u001b[49m\u001b[43m(\u001b[49m\u001b[43m)\u001b[49m\u001b[38;5;241m.\u001b[39marray \u001b[38;5;241m=\u001b[39m u\u001b[38;5;241m.\u001b[39mvector\u001b[38;5;241m.\u001b[39marray[indexes_local]\n",
      "File \u001b[0;32mpetsc4py/PETSc/Vec.pyx:1240\u001b[0m, in \u001b[0;36mpetsc4py.PETSc.Vec.getLocalVector\u001b[0;34m()\u001b[0m\n",
      "\u001b[0;31mTypeError\u001b[0m: getLocalVector() takes at least 1 positional argument (0 given)"
     ]
    }
   ],
   "source": [
    "indexes_local = range(*u.vector.getOwnershipRange())\n",
    "u.vector.getLocalVector().array = u.vector.array[indexes_local]"
   ]
  },
  {
   "cell_type": "code",
   "execution_count": 17,
   "metadata": {},
   "outputs": [
    {
     "data": {
      "text/plain": [
       "array([[ 1.        ,  0.        ,  0.        ,  0.        ,  0.        ,\n",
       "         0.        ,  0.        ,  0.        ,  0.        ,  0.        ],\n",
       "       [ 0.        ,  1.        ,  0.        ,  0.        ,  0.        ,\n",
       "         0.        ,  0.        ,  0.        ,  0.        ,  0.        ],\n",
       "       [ 0.        ,  0.        ,  1.        ,  0.        ,  0.        ,\n",
       "         0.        ,  0.        ,  0.        ,  0.        ,  0.        ],\n",
       "       [ 0.        ,  0.        ,  0.        ,  1.3205498 ,  0.        ,\n",
       "         0.        , -0.33064419, -0.33064424,  0.        ,  0.        ],\n",
       "       [ 0.        ,  0.        ,  0.        ,  0.        ,  1.        ,\n",
       "         0.        ,  0.        ,  0.        ,  0.        ,  0.        ],\n",
       "       [ 0.        ,  0.        ,  0.        ,  0.        ,  0.        ,\n",
       "         1.        ,  0.        ,  0.        ,  0.        ,  0.        ],\n",
       "       [ 0.        ,  0.        ,  0.        , -0.33064419,  0.        ,\n",
       "         0.        ,  1.59049311,  0.10299128,  0.        ,  0.        ],\n",
       "       [ 0.        ,  0.        ,  0.        , -0.33064424,  0.        ,\n",
       "         0.        ,  0.10299128,  1.59049335,  0.        ,  0.        ],\n",
       "       [ 0.        ,  0.        ,  0.        ,  0.        ,  0.        ,\n",
       "         0.        ,  0.        ,  0.        ,  1.        ,  0.        ],\n",
       "       [ 0.        ,  0.        ,  0.        ,  0.        ,  0.        ,\n",
       "         0.        ,  0.        ,  0.        ,  0.        ,  1.        ]])"
      ]
     },
     "execution_count": 17,
     "metadata": {},
     "output_type": "execute_result"
    }
   ],
   "source": [
    "A.getValues(range(0,10), range(0,10))"
   ]
  },
  {
   "cell_type": "code",
   "execution_count": 1,
   "metadata": {},
   "outputs": [
    {
     "name": "stdout",
     "output_type": "stream",
     "text": [
      "dolfinx is located at: /usr/local/dolfinx-real/lib/python3.10/dist-packages/dolfinx\n",
      "petsc4py is located at: /usr/local/lib/python3.10/dist-packages/petsc4py\n"
     ]
    }
   ],
   "source": [
    "import dolfinx\n",
    "import os\n",
    "import petsc4py\n",
    "\n",
    "# Get the path to the dolfinx module\n",
    "dolfinx_path = os.path.dirname(dolfinx.__file__)\n",
    "print(\"dolfinx is located at:\", dolfinx_path)\n",
    "\n",
    "petsc4py_path = os.path.dirname(petsc4py.__file__)\n",
    "print(\"petsc4py is located at:\", petsc4py_path)"
   ]
  }
 ],
 "metadata": {
  "kernelspec": {
   "display_name": "Python 3",
   "language": "python",
   "name": "python3"
  },
  "language_info": {
   "codemirror_mode": {
    "name": "ipython",
    "version": 3
   },
   "file_extension": ".py",
   "mimetype": "text/x-python",
   "name": "python",
   "nbconvert_exporter": "python",
   "pygments_lexer": "ipython3",
   "version": "3.10.12"
  }
 },
 "nbformat": 4,
 "nbformat_minor": 2
}
