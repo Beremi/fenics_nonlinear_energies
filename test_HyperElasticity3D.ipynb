{
 "cells": [
  {
   "cell_type": "markdown",
   "metadata": {},
   "source": [
    "# Imports\n",
    "All problem-speciffic files (code) in in the folder `HyperElasticity3D`, namely the loading of pre-prepared mesh and definition of energy in jax.numpy."
   ]
  },
  {
   "cell_type": "code",
   "execution_count": 1,
   "metadata": {},
   "outputs": [],
   "source": [
    "from tools.minimizers import newton\n",
    "from tools.sparse_solvers import HessSolverGenerator\n",
    "from tools.jax_diff import EnergyDerivator as EnergyDerivator\n",
    "from HyperElasticity3D.jax_energy import J\n",
    "from HyperElasticity3D.mesh import MeshHyperElasticity3D\n",
    "from HyperElasticity3D.rotate_boundary import rotate_boundary\n",
    "\n",
    "import numpy as np\n",
    "from jax import config\n",
    "\n",
    "config.update(\"jax_enable_x64\", True)"
   ]
  },
  {
   "cell_type": "markdown",
   "metadata": {},
   "source": [
    "# Setup of the problem"
   ]
  },
  {
   "cell_type": "code",
   "execution_count": 2,
   "metadata": {},
   "outputs": [
    {
     "name": "stderr",
     "output_type": "stream",
     "text": [
      "An NVIDIA GPU may be present on this machine, but a CUDA-enabled jaxlib is not installed. Falling back to cpu.\n"
     ]
    }
   ],
   "source": [
    "rotation_per_iter = 4 * 2 * np.pi / 24\n",
    "mesh = MeshHyperElasticity3D(mesh_level=3)\n",
    "params, adjacency, u_init = mesh.get_data_jax()\n",
    "energy_hyperelasticity = EnergyDerivator(J, params, adjacency, u_init)\n",
    "\n",
    "params = rotate_boundary(params, angle=rotation_per_iter)\n",
    "energy_hyperelasticity.params = params\n",
    "\n",
    "F, dF, ddF = energy_hyperelasticity.get_derivatives()\n",
    "ddf_with_solver = HessSolverGenerator(ddf=ddF, solver_type=\"amg\", elastic_kernel=mesh.elastic_kernel, verbose=True, tol=1e-3)"
   ]
  },
  {
   "cell_type": "markdown",
   "metadata": {},
   "source": [
    "# Solution via Newton's method"
   ]
  },
  {
   "cell_type": "code",
   "execution_count": 3,
   "metadata": {},
   "outputs": [
    {
     "name": "stdout",
     "output_type": "stream",
     "text": [
      "Iterations in AMG solver: 6.\n",
      "it=1, f=34.45339, fstep = 2.15209e+01, ||g||=3090.47754, nitf=17, a=3.28240e-01\n",
      "Iterations in AMG solver: 5.\n",
      "it=2, f=5.71812, fstep = 2.87353e+01, ||g||=2474.30769, nitf=17, a=9.66394e-01\n",
      "Iterations in AMG solver: 8.\n",
      "it=3, f=2.12818, fstep = 3.58995e+00, ||g||=915.46300, nitf=17, a=1.02694e+00\n",
      "Iterations in AMG solver: 13.\n",
      "it=4, f=0.98581, fstep = 1.14237e+00, ||g||=444.02223, nitf=17, a=1.21738e+00\n",
      "Iterations in AMG solver: 12.\n",
      "it=5, f=0.72635, fstep = 2.59461e-01, ||g||=177.05774, nitf=17, a=2.43103e-01\n",
      "Iterations in AMG solver: 9.\n",
      "it=6, f=0.45953, fstep = 2.66822e-01, ||g||=187.33275, nitf=17, a=1.41611e+00\n",
      "Iterations in AMG solver: 26.\n",
      "it=7, f=0.45712, fstep = 2.40404e-03, ||g||=97.07774, nitf=17, a=-3.87707e-02\n",
      "Iterations in AMG solver: 19.\n",
      "it=8, f=0.39618, fstep = 6.09390e-02, ||g||=98.39233, nitf=17, a=4.10946e-01\n",
      "Iterations in AMG solver: 15.\n",
      "it=9, f=0.32681, fstep = 6.93753e-02, ||g||=86.90240, nitf=17, a=1.02371e+00\n",
      "Iterations in AMG solver: 13.\n",
      "it=10, f=0.26953, fstep = 5.72753e-02, ||g||=76.35142, nitf=17, a=1.34214e+00\n",
      "Iterations in AMG solver: 19.\n",
      "it=11, f=0.25596, fstep = 1.35729e-02, ||g||=56.92387, nitf=17, a=1.61797e-01\n",
      "Iterations in AMG solver: 15.\n",
      "it=12, f=0.21780, fstep = 3.81640e-02, ||g||=55.70717, nitf=17, a=1.91128e+00\n",
      "Iterations in AMG solver: 21.\n",
      "it=13, f=0.21002, fstep = 7.77417e-03, ||g||=42.96974, nitf=17, a=2.38304e-01\n",
      "Iterations in AMG solver: 19.\n",
      "it=14, f=0.19398, fstep = 1.60436e-02, ||g||=40.67389, nitf=17, a=1.24347e+00\n",
      "Iterations in AMG solver: 21.\n",
      "it=15, f=0.18462, fstep = 9.36051e-03, ||g||=34.08741, nitf=17, a=8.82823e-01\n",
      "Iterations in AMG solver: 21.\n",
      "it=16, f=0.17691, fstep = 7.71092e-03, ||g||=26.90342, nitf=17, a=9.99283e-01\n",
      "Iterations in AMG solver: 22.\n",
      "it=17, f=0.17091, fstep = 6.00118e-03, ||g||=25.81565, nitf=17, a=1.30671e+00\n",
      "Iterations in AMG solver: 24.\n",
      "it=18, f=0.16747, fstep = 3.43830e-03, ||g||=19.04592, nitf=17, a=7.98551e-01\n",
      "Iterations in AMG solver: 24.\n",
      "it=19, f=0.16461, fstep = 2.85341e-03, ||g||=16.87766, nitf=17, a=1.58789e+00\n",
      "Iterations in AMG solver: 27.\n",
      "it=20, f=0.16346, fstep = 1.15381e-03, ||g||=11.95152, nitf=17, a=8.22276e-01\n",
      "Iterations in AMG solver: 27.\n",
      "it=21, f=0.16279, fstep = 6.75605e-04, ||g||=8.24104, nitf=17, a=1.38462e+00\n",
      "Iterations in AMG solver: 28.\n",
      "it=22, f=0.16259, fstep = 1.93981e-04, ||g||=5.02214, nitf=17, a=1.03104e+00\n",
      "Iterations in AMG solver: 32.\n",
      "it=23, f=0.16256, fstep = 3.47701e-05, ||g||=2.01982, nitf=17, a=1.12787e+00\n"
     ]
    },
    {
     "data": {
      "text/plain": [
       "{'x': Array([ 0.00124997, -0.00501302, -0.00498591, ...,  0.39874986,\n",
       "         0.00683569, -0.00181169], dtype=float64),\n",
       " 'fun': array(0.16255661),\n",
       " 'nit': 23,\n",
       " 'time': 63.855648853990715,\n",
       " 'message': 'Stopping condition for f is satisfied'}"
      ]
     },
     "execution_count": 3,
     "metadata": {},
     "output_type": "execute_result"
    }
   ],
   "source": [
    "res = newton(F, dF, ddf_with_solver, u_init, verbose=True, tolf=1e-4, linesearch_tol=1e-3)\n",
    "res"
   ]
  },
  {
   "cell_type": "markdown",
   "metadata": {},
   "source": [
    "### And other stepps of rotation will be as follows:"
   ]
  },
  {
   "cell_type": "code",
   "execution_count": null,
   "metadata": {},
   "outputs": [],
   "source": [
    "# Apply timestep = rotation of the right boundary\n",
    "params = rotate_boundary(params, angle=rotation_per_iter)\n",
    "energy_hyperelasticity.params = params\n",
    "\n",
    "# Get derivatives\n",
    "F, dF, ddF = energy_hyperelasticity.get_derivatives()\n",
    "ddf_with_solver = HessSolverGenerator(ddf=ddF, solver_type=\"amg\", elastic_kernel=mesh.elastic_kernel, verbose=True, tol=1e-3)\n",
    "# Actualize initial guess\n",
    "u_init = res[\"x\"]\n",
    "\n",
    "# Newton method\n",
    "res = newton(F, dF, ddf_with_solver, u_init, verbose=True, tolf=1e-4, linesearch_tol=1e-3)\n",
    "res"
   ]
  }
 ],
 "metadata": {
  "kernelspec": {
   "display_name": "Python 3",
   "language": "python",
   "name": "python3"
  },
  "language_info": {
   "codemirror_mode": {
    "name": "ipython",
    "version": 3
   },
   "file_extension": ".py",
   "mimetype": "text/x-python",
   "name": "python",
   "nbconvert_exporter": "python",
   "pygments_lexer": "ipython3",
   "version": "3.12.4"
  }
 },
 "nbformat": 4,
 "nbformat_minor": 2
}
